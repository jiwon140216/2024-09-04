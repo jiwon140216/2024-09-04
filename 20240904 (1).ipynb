{
  "nbformat": 4,
  "nbformat_minor": 0,
  "metadata": {
    "colab": {
      "provenance": []
    },
    "kernelspec": {
      "name": "python3",
      "display_name": "Python 3"
    },
    "language_info": {
      "name": "python"
    }
  },
  "cells": [
    {
      "cell_type": "code",
      "execution_count": null,
      "metadata": {
        "id": "k0RCDfT4RXeY"
      },
      "outputs": [],
      "source": [
        "print(\"Hello word!\")"
      ]
    },
    {
      "cell_type": "code",
      "source": [],
      "metadata": {
        "id": "bfJbJSGGvT21"
      },
      "execution_count": null,
      "outputs": []
    },
    {
      "cell_type": "code",
      "source": [
        "print(\"집에 보내줘\")"
      ],
      "metadata": {
        "id": "sQuBBR7QXdWl"
      },
      "execution_count": null,
      "outputs": []
    },
    {
      "cell_type": "code",
      "source": [
        "print(\"Hello python\")\n"
      ],
      "metadata": {
        "id": "wAwIuRA8R1C5"
      },
      "execution_count": null,
      "outputs": []
    },
    {
      "cell_type": "code",
      "source": [],
      "metadata": {
        "id": "xQkUd5BPZahl"
      },
      "execution_count": null,
      "outputs": []
    },
    {
      "cell_type": "markdown",
      "source": [
        "# 새 섹션"
      ],
      "metadata": {
        "id": "_8rCw_d-dd6O"
      }
    },
    {
      "cell_type": "markdown",
      "source": [
        "##그래프 그리기"
      ],
      "metadata": {
        "id": "BURApoCnd4T5"
      }
    },
    {
      "cell_type": "code",
      "source": [
        "import pylab as py\n",
        "\n",
        "x_deg=py.arange(-180, 180+1,)\n",
        "x_rad=py.deg2rad(x_deg)\n",
        "y=py.sin(x_rad)\n",
        "\n",
        "py.plot(x_deg, y)\n",
        "\n",
        "py.xlabel('x(deg)')\n",
        "py.ylabel('sin(x)')\n",
        "py.grid(True)\n"
      ],
      "metadata": {
        "id": "2mfTblPwd8-I"
      },
      "execution_count": null,
      "outputs": []
    },
    {
      "cell_type": "markdown",
      "source": [
        "###부제목"
      ],
      "metadata": {
        "id": "fglQIyTkeDUU"
      }
    },
    {
      "cell_type": "code",
      "source": [],
      "metadata": {
        "id": "FMLOR-9BeG-K"
      },
      "execution_count": null,
      "outputs": []
    }
  ]
}